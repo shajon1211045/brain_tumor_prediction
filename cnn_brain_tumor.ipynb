{
 "cells": [
  {
   "cell_type": "markdown",
   "metadata": {},
   "source": [
    "<h1>Import Necessary Liabraries</h1>"
   ]
  },
  {
   "cell_type": "code",
   "execution_count": 1,
   "metadata": {},
   "outputs": [],
   "source": [
    "import os \n",
    "import keras\n",
    "from keras.models import Sequential\n",
    "from keras.layers import Conv2D, MaxPooling2D, Flatten, Dense, Dropout, BatchNormalization\n",
    "from PIL import Image\n",
    "import numpy as np\n",
    "import pandas as pd\n",
    "import matplotlib.pyplot as plt\n",
    "plt.style.use('dark_background')\n",
    "from sklearn.model_selection import train_test_split\n",
    "from sklearn.preprocessing import OneHotEncoder  "
   ]
  },
  {
   "cell_type": "markdown",
   "metadata": {},
   "source": [
    "<h1>One Hot Encode the Target Classes</h1>"
   ]
  },
  {
   "cell_type": "code",
   "execution_count": 2,
   "metadata": {},
   "outputs": [
    {
     "data": {
      "text/plain": [
       "OneHotEncoder()"
      ]
     },
     "execution_count": 2,
     "metadata": {},
     "output_type": "execute_result"
    }
   ],
   "source": [
    "encoder = OneHotEncoder()\n",
    "encoder.fit([[0],[1]]) \n",
    "# '0' - Tumor\n",
    "# '1' - No Tumor "
   ]
  },
  {
   "cell_type": "markdown",
   "metadata": {},
   "source": [
    "<h1>Create lists for storing data --</h1>\n",
    " <h5>1. data list for storing image data in numpy array.</h5>\n",
    " <h5>. paths list for storing paths of all images.</h5>\n",
    " <h5>3. result list for storing one hot encoded form of target class whether normal or tumor.</h5>"
   ]
  },
  {
   "cell_type": "code",
   "execution_count": 3,
   "metadata": {},
   "outputs": [],
   "source": [
    "# This cell updates result list for images with tumor\n",
    "\n",
    "data = []\n",
    "paths = []\n",
    "result = []\n",
    "\n",
    "for r,d,f in os.walk(r'../brain tumor/brain_tumor_dataset/yes'):\n",
    "    for file in f:\n",
    "        if '.jpg' in file:\n",
    "            paths.append(os.path.join(r,file))\n",
    "\n",
    "for path in paths:\n",
    "    img = Image.open(path)\n",
    "    img = img.resize((128,128))\n",
    "    img = np.array(img)\n",
    "    if(img.shape == (128,128,3)):\n",
    "        data.append(np.array(img))\n",
    "        result.append(encoder.transform([[0]]).toarray())\n"
   ]
  },
  {
   "cell_type": "code",
   "execution_count": 4,
   "metadata": {},
   "outputs": [],
   "source": [
    "# This cell updates result list for images without tumor\n",
    "paths = []\n",
    "\n",
    "for r,d,f in os.walk(r'../brain tumor/brain_tumor_dataset/no'):\n",
    "    for file in f:\n",
    "        if '.jpg' in file:\n",
    "            paths.append(os.path.join(r,file))\n",
    "\n",
    "for path in paths:\n",
    "    img = Image.open(path)\n",
    "    img = img.resize((128,128))\n",
    "    img = np.array(img)\n",
    "    if(img.shape == (128,128,3)):\n",
    "        data.append(np.array(img))\n",
    "        result.append(encoder.transform([[1]]).toarray())\n"
   ]
  },
  {
   "cell_type": "markdown",
   "metadata": {},
   "source": [
    "<h1>Convert data into numpy form</h1>"
   ]
  },
  {
   "cell_type": "code",
   "execution_count": 5,
   "metadata": {},
   "outputs": [
    {
     "data": {
      "text/plain": [
       "(139, 128, 128, 3)"
      ]
     },
     "execution_count": 5,
     "metadata": {},
     "output_type": "execute_result"
    }
   ],
   "source": [
    "data = np.array(data)\n",
    "data.shape"
   ]
  },
  {
   "cell_type": "markdown",
   "metadata": {},
   "source": [
    "<h1>Convert result array </h1>"
   ]
  },
  {
   "cell_type": "code",
   "execution_count": 6,
   "metadata": {},
   "outputs": [],
   "source": [
    "result = np.array(result)\n",
    "result = result.reshape(139,2)"
   ]
  },
  {
   "cell_type": "markdown",
   "metadata": {},
   "source": [
    "<h1>Split the data for training and testing</h1>"
   ]
  },
  {
   "cell_type": "code",
   "execution_count": 7,
   "metadata": {},
   "outputs": [],
   "source": [
    "x_train, x_test, y_train, y_test = train_test_split(data, result, test_size=0.2,shuffle=True, random_state=0)"
   ]
  },
  {
   "cell_type": "markdown",
   "metadata": {},
   "source": [
    "<h1>Build the Model</h1>"
   ]
  },
  {
   "cell_type": "code",
   "execution_count": 8,
   "metadata": {},
   "outputs": [
    {
     "name": "stdout",
     "output_type": "stream",
     "text": [
      "Model: \"sequential\"\n",
      "_________________________________________________________________\n",
      " Layer (type)                Output Shape              Param #   \n",
      "=================================================================\n",
      " conv2d (Conv2D)             (None, 128, 128, 32)      416       \n",
      "                                                                 \n",
      " conv2d_1 (Conv2D)           (None, 128, 128, 32)      4128      \n",
      "                                                                 \n",
      " batch_normalization (BatchN  (None, 128, 128, 32)     128       \n",
      " ormalization)                                                   \n",
      "                                                                 \n",
      " max_pooling2d (MaxPooling2D  (None, 64, 64, 32)       0         \n",
      " )                                                               \n",
      "                                                                 \n",
      " dropout (Dropout)           (None, 64, 64, 32)        0         \n",
      "                                                                 \n",
      " conv2d_2 (Conv2D)           (None, 64, 64, 64)        8256      \n",
      "                                                                 \n",
      " conv2d_3 (Conv2D)           (None, 64, 64, 64)        16448     \n",
      "                                                                 \n",
      " batch_normalization_1 (Batc  (None, 64, 64, 64)       256       \n",
      " hNormalization)                                                 \n",
      "                                                                 \n",
      " max_pooling2d_1 (MaxPooling  (None, 32, 32, 64)       0         \n",
      " 2D)                                                             \n",
      "                                                                 \n",
      " dropout_1 (Dropout)         (None, 32, 32, 64)        0         \n",
      "                                                                 \n",
      " flatten (Flatten)           (None, 65536)             0         \n",
      "                                                                 \n",
      " dense (Dense)               (None, 512)               33554944  \n",
      "                                                                 \n",
      " dropout_2 (Dropout)         (None, 512)               0         \n",
      "                                                                 \n",
      " dense_1 (Dense)             (None, 2)                 1026      \n",
      "                                                                 \n",
      "=================================================================\n",
      "Total params: 33,585,602\n",
      "Trainable params: 33,585,410\n",
      "Non-trainable params: 192\n",
      "_________________________________________________________________\n",
      "None\n"
     ]
    }
   ],
   "source": [
    "model = Sequential()\n",
    "\n",
    "model.add(Conv2D(32, kernel_size=(2,2), input_shape=(128,128,3), padding='Same'))\n",
    "model.add(Conv2D(32, kernel_size=(2,2), activation = 'relu', padding='Same'))\n",
    "\n",
    "model.add(BatchNormalization())\n",
    "model.add(MaxPooling2D(pool_size=(2,2)))\n",
    "model.add(Dropout(0.25))\n",
    "\n",
    "model.add(Conv2D(64, kernel_size=(2,2), activation = 'relu', padding='Same'))\n",
    "model.add(Conv2D(64, kernel_size=(2,2), activation = 'relu', padding='Same'))\n",
    "\n",
    "model.add(BatchNormalization())\n",
    "model.add(MaxPooling2D(pool_size=(2,2), strides=(2,2)))\n",
    "model.add(Dropout(0.25))\n",
    "\n",
    "model.add(Flatten())\n",
    "\n",
    "model.add(Dense(512,activation='relu'))\n",
    "model.add(Dropout(0.5))\n",
    "model.add(Dense(2, activation='softmax'))\n",
    "\n",
    "model.compile(loss = 'categorical_crossentropy',optimizer='Adamax')\n",
    "print(model.summary())"
   ]
  },
  {
   "cell_type": "code",
   "execution_count": 10,
   "metadata": {},
   "outputs": [
    {
     "data": {
      "text/plain": [
       "(111, 2)"
      ]
     },
     "execution_count": 10,
     "metadata": {},
     "output_type": "execute_result"
    }
   ],
   "source": [
    "y_train.shape"
   ]
  },
  {
   "cell_type": "markdown",
   "metadata": {},
   "source": [
    "<h1>Fit the data to the Model</h1>"
   ]
  },
  {
   "cell_type": "code",
   "execution_count": 12,
   "metadata": {},
   "outputs": [
    {
     "name": "stdout",
     "output_type": "stream",
     "text": [
      "Epoch 1/30\n",
      "2/2 [==============================] - 3s 1s/step - loss: 6.9284e-05 - val_loss: 8.4456\n",
      "Epoch 2/30\n",
      "2/2 [==============================] - 3s 1s/step - loss: 9.5981e-06 - val_loss: 8.4174\n",
      "Epoch 3/30\n",
      "2/2 [==============================] - 3s 1s/step - loss: 3.2863e-07 - val_loss: 8.3942\n",
      "Epoch 4/30\n",
      "2/2 [==============================] - 3s 1s/step - loss: 2.1479e-09 - val_loss: 8.3749\n",
      "Epoch 5/30\n",
      "2/2 [==============================] - 3s 1s/step - loss: 0.0611 - val_loss: 8.3130\n",
      "Epoch 6/30\n",
      "2/2 [==============================] - 3s 2s/step - loss: 6.4015e-04 - val_loss: 8.2241\n",
      "Epoch 7/30\n",
      "2/2 [==============================] - 3s 2s/step - loss: 3.2219e-09 - val_loss: 8.1550\n",
      "Epoch 8/30\n",
      "2/2 [==============================] - 4s 2s/step - loss: 0.0161 - val_loss: 8.0697\n",
      "Epoch 9/30\n",
      "2/2 [==============================] - 3s 2s/step - loss: 0.0585 - val_loss: 7.9981\n",
      "Epoch 10/30\n",
      "2/2 [==============================] - 3s 2s/step - loss: 1.7613e-07 - val_loss: 7.9612\n",
      "Epoch 11/30\n",
      "2/2 [==============================] - 3s 2s/step - loss: 0.0813 - val_loss: 7.9835\n",
      "Epoch 12/30\n",
      "2/2 [==============================] - 3s 2s/step - loss: 1.1814e-08 - val_loss: 7.9900\n",
      "Epoch 13/30\n",
      "2/2 [==============================] - 3s 2s/step - loss: 3.2251e-05 - val_loss: 7.9981\n",
      "Epoch 14/30\n",
      "2/2 [==============================] - 3s 2s/step - loss: 2.4456e-04 - val_loss: 8.0085\n",
      "Epoch 15/30\n",
      "2/2 [==============================] - 3s 2s/step - loss: 2.4512e-05 - val_loss: 8.0213\n",
      "Epoch 16/30\n",
      "2/2 [==============================] - 3s 2s/step - loss: 0.2164 - val_loss: 8.0375\n",
      "Epoch 17/30\n",
      "2/2 [==============================] - 3s 2s/step - loss: 0.0212 - val_loss: 8.0817\n",
      "Epoch 18/30\n",
      "2/2 [==============================] - 3s 2s/step - loss: 0.0040 - val_loss: 8.1074\n",
      "Epoch 19/30\n",
      "2/2 [==============================] - 3s 2s/step - loss: 0.0000e+00 - val_loss: 8.1335\n",
      "Epoch 20/30\n",
      "2/2 [==============================] - 3s 2s/step - loss: 9.9878e-08 - val_loss: 8.1586\n",
      "Epoch 21/30\n",
      "2/2 [==============================] - 3s 2s/step - loss: 1.9341e-06 - val_loss: 8.1824\n",
      "Epoch 22/30\n",
      "2/2 [==============================] - 3s 2s/step - loss: 8.0546e-08 - val_loss: 8.2067\n",
      "Epoch 23/30\n",
      "2/2 [==============================] - 3s 2s/step - loss: 7.8255e-05 - val_loss: 8.2290\n",
      "Epoch 24/30\n",
      "2/2 [==============================] - 3s 2s/step - loss: 0.0799 - val_loss: 8.2157\n",
      "Epoch 25/30\n",
      "2/2 [==============================] - 3s 2s/step - loss: 1.1672e-04 - val_loss: 8.2094\n",
      "Epoch 26/30\n",
      "2/2 [==============================] - 3s 2s/step - loss: 1.3961e-08 - val_loss: 8.2086\n",
      "Epoch 27/30\n",
      "2/2 [==============================] - 3s 2s/step - loss: 4.5857e-07 - val_loss: 8.2097\n",
      "Epoch 28/30\n",
      "2/2 [==============================] - 3s 2s/step - loss: 7.4732e-04 - val_loss: 8.2109\n",
      "Epoch 29/30\n",
      "2/2 [==============================] - 3s 2s/step - loss: 1.2189e-06 - val_loss: 8.2123\n",
      "Epoch 30/30\n",
      "2/2 [==============================] - 3s 2s/step - loss: 2.1479e-09 - val_loss: 8.2154\n"
     ]
    }
   ],
   "source": [
    "history = model.fit(x_train, y_train, epochs = 30, batch_size = 60, verbose = 1, validation_data = (x_test, y_test))"
   ]
  },
  {
   "cell_type": "markdown",
   "metadata": {},
   "source": [
    "<h1>Plot the losses</h1>"
   ]
  },
  {
   "cell_type": "code",
   "execution_count": 13,
   "metadata": {},
   "outputs": [
    {
     "data": {
      "image/png": "[encoded data removed]",
      "text/plain": [
       "<Figure size 640x480 with 1 Axes>"
      ]
     },
     "metadata": {},
     "output_type": "display_data"
    }
   ],
   "source": [
    "plt.plot(history.history['loss'])\n",
    "plt.plot(history.history['val_loss'])\n",
    "plt.title('Model Loss')\n",
    "plt.ylabel('Loss')\n",
    "plt.xlabel('Epoch')\n",
    "plt.legend(['Test','Validation'], loc='upper right')\n",
    "plt.show()"
   ]
  },
  {
   "cell_type": "markdown",
   "metadata": {},
   "source": []
  }
 ],
 "metadata": {
  "kernelspec": {
   "display_name": "Python 3.7.0 64-bit",
   "language": "python",
   "name": "python3"
  },
  "language_info": {
   "codemirror_mode": {
    "name": "ipython",
    "version": 3
   },
   "file_extension": ".py",
   "mimetype": "text/x-python",
   "name": "python",
   "nbconvert_exporter": "python",
   "pygments_lexer": "ipython3",
   "version": "3.7.0"
  },
  "orig_nbformat": 4,
  "vscode": {
   "interpreter": {
    "hash": "74b126b09f7d731727820e7a220e944278130bd3f4fd72d866e3d7406e90b18e"
   }
  }
 },
 "nbformat": 4,
 "nbformat_minor": 2
}
